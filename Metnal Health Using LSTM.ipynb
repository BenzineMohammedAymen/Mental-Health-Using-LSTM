{
  "nbformat": 4,
  "nbformat_minor": 0,
  "metadata": {
    "colab": {
      "provenance": [],
      "authorship_tag": "ABX9TyMUVfETlCaQmfs6cGPLQO+2",
      "include_colab_link": true
    },
    "kernelspec": {
      "name": "python3",
      "display_name": "Python 3"
    },
    "language_info": {
      "name": "python"
    }
  },
  "cells": [
    {
      "cell_type": "markdown",
      "metadata": {
        "id": "view-in-github",
        "colab_type": "text"
      },
      "source": [
        "<a href=\"https://colab.research.google.com/github/BenzineMohammedAymen/Mental-Health-Using-LSTM/blob/main/Metnal%20Health%20Using%20LSTM.ipynb\" target=\"_parent\"><img src=\"https://colab.research.google.com/assets/colab-badge.svg\" alt=\"Open In Colab\"/></a>"
      ]
    },
    {
      "cell_type": "code",
      "source": [
        "!git clone https://github.com/BenzineMohammedAymen/Mental-Health-Using-LSTM.git"
      ],
      "metadata": {
        "colab": {
          "base_uri": "https://localhost:8080/"
        },
        "id": "HgUCyKCqzuy0",
        "outputId": "f4f1edbf-2022-41f8-edef-319f0ae9ddae"
      },
      "execution_count": 1,
      "outputs": [
        {
          "output_type": "stream",
          "name": "stdout",
          "text": [
            "Cloning into 'Mental-Health-Using-LSTM'...\n",
            "remote: Enumerating objects: 3, done.\u001b[K\n",
            "remote: Counting objects: 100% (3/3), done.\u001b[K\n",
            "remote: Total 3 (delta 0), reused 0 (delta 0), pack-reused 0 (from 0)\u001b[K\n",
            "Receiving objects: 100% (3/3), done.\n"
          ]
        }
      ]
    },
    {
      "cell_type": "markdown",
      "source": [
        "#1- **Upload a corpus of sentences (Mental Health Dataset)**"
      ],
      "metadata": {
        "id": "cbT4lEXVNZWg"
      }
    },
    {
      "cell_type": "code",
      "execution_count": 92,
      "metadata": {
        "id": "nVIMo--oML9F"
      },
      "outputs": [],
      "source": [
        "import pandas as pd\n",
        "df = pd.read_csv('mental_health.csv')"
      ]
    },
    {
      "cell_type": "code",
      "source": [
        "df.head()"
      ],
      "metadata": {
        "colab": {
          "base_uri": "https://localhost:8080/",
          "height": 206
        },
        "id": "EHIypZfEOEcr",
        "outputId": "8f952700-4e98-4cac-c83e-892afe896ab0"
      },
      "execution_count": 93,
      "outputs": [
        {
          "output_type": "execute_result",
          "data": {
            "text/plain": [
              "                                                text  label\n",
              "0  dear american teens question dutch person hear...      0\n",
              "1  nothing look forward lifei dont many reasons k...      1\n",
              "2  music recommendations im looking expand playli...      0\n",
              "3  im done trying feel betterthe reason im still ...      1\n",
              "4  worried  year old girl subject domestic physic...      1"
            ],
            "text/html": [
              "\n",
              "  <div id=\"df-23fa48f0-4661-4d8d-abe9-bdce1183e12b\" class=\"colab-df-container\">\n",
              "    <div>\n",
              "<style scoped>\n",
              "    .dataframe tbody tr th:only-of-type {\n",
              "        vertical-align: middle;\n",
              "    }\n",
              "\n",
              "    .dataframe tbody tr th {\n",
              "        vertical-align: top;\n",
              "    }\n",
              "\n",
              "    .dataframe thead th {\n",
              "        text-align: right;\n",
              "    }\n",
              "</style>\n",
              "<table border=\"1\" class=\"dataframe\">\n",
              "  <thead>\n",
              "    <tr style=\"text-align: right;\">\n",
              "      <th></th>\n",
              "      <th>text</th>\n",
              "      <th>label</th>\n",
              "    </tr>\n",
              "  </thead>\n",
              "  <tbody>\n",
              "    <tr>\n",
              "      <th>0</th>\n",
              "      <td>dear american teens question dutch person hear...</td>\n",
              "      <td>0</td>\n",
              "    </tr>\n",
              "    <tr>\n",
              "      <th>1</th>\n",
              "      <td>nothing look forward lifei dont many reasons k...</td>\n",
              "      <td>1</td>\n",
              "    </tr>\n",
              "    <tr>\n",
              "      <th>2</th>\n",
              "      <td>music recommendations im looking expand playli...</td>\n",
              "      <td>0</td>\n",
              "    </tr>\n",
              "    <tr>\n",
              "      <th>3</th>\n",
              "      <td>im done trying feel betterthe reason im still ...</td>\n",
              "      <td>1</td>\n",
              "    </tr>\n",
              "    <tr>\n",
              "      <th>4</th>\n",
              "      <td>worried  year old girl subject domestic physic...</td>\n",
              "      <td>1</td>\n",
              "    </tr>\n",
              "  </tbody>\n",
              "</table>\n",
              "</div>\n",
              "    <div class=\"colab-df-buttons\">\n",
              "\n",
              "  <div class=\"colab-df-container\">\n",
              "    <button class=\"colab-df-convert\" onclick=\"convertToInteractive('df-23fa48f0-4661-4d8d-abe9-bdce1183e12b')\"\n",
              "            title=\"Convert this dataframe to an interactive table.\"\n",
              "            style=\"display:none;\">\n",
              "\n",
              "  <svg xmlns=\"http://www.w3.org/2000/svg\" height=\"24px\" viewBox=\"0 -960 960 960\">\n",
              "    <path d=\"M120-120v-720h720v720H120Zm60-500h600v-160H180v160Zm220 220h160v-160H400v160Zm0 220h160v-160H400v160ZM180-400h160v-160H180v160Zm440 0h160v-160H620v160ZM180-180h160v-160H180v160Zm440 0h160v-160H620v160Z\"/>\n",
              "  </svg>\n",
              "    </button>\n",
              "\n",
              "  <style>\n",
              "    .colab-df-container {\n",
              "      display:flex;\n",
              "      gap: 12px;\n",
              "    }\n",
              "\n",
              "    .colab-df-convert {\n",
              "      background-color: #E8F0FE;\n",
              "      border: none;\n",
              "      border-radius: 50%;\n",
              "      cursor: pointer;\n",
              "      display: none;\n",
              "      fill: #1967D2;\n",
              "      height: 32px;\n",
              "      padding: 0 0 0 0;\n",
              "      width: 32px;\n",
              "    }\n",
              "\n",
              "    .colab-df-convert:hover {\n",
              "      background-color: #E2EBFA;\n",
              "      box-shadow: 0px 1px 2px rgba(60, 64, 67, 0.3), 0px 1px 3px 1px rgba(60, 64, 67, 0.15);\n",
              "      fill: #174EA6;\n",
              "    }\n",
              "\n",
              "    .colab-df-buttons div {\n",
              "      margin-bottom: 4px;\n",
              "    }\n",
              "\n",
              "    [theme=dark] .colab-df-convert {\n",
              "      background-color: #3B4455;\n",
              "      fill: #D2E3FC;\n",
              "    }\n",
              "\n",
              "    [theme=dark] .colab-df-convert:hover {\n",
              "      background-color: #434B5C;\n",
              "      box-shadow: 0px 1px 3px 1px rgba(0, 0, 0, 0.15);\n",
              "      filter: drop-shadow(0px 1px 2px rgba(0, 0, 0, 0.3));\n",
              "      fill: #FFFFFF;\n",
              "    }\n",
              "  </style>\n",
              "\n",
              "    <script>\n",
              "      const buttonEl =\n",
              "        document.querySelector('#df-23fa48f0-4661-4d8d-abe9-bdce1183e12b button.colab-df-convert');\n",
              "      buttonEl.style.display =\n",
              "        google.colab.kernel.accessAllowed ? 'block' : 'none';\n",
              "\n",
              "      async function convertToInteractive(key) {\n",
              "        const element = document.querySelector('#df-23fa48f0-4661-4d8d-abe9-bdce1183e12b');\n",
              "        const dataTable =\n",
              "          await google.colab.kernel.invokeFunction('convertToInteractive',\n",
              "                                                    [key], {});\n",
              "        if (!dataTable) return;\n",
              "\n",
              "        const docLinkHtml = 'Like what you see? Visit the ' +\n",
              "          '<a target=\"_blank\" href=https://colab.research.google.com/notebooks/data_table.ipynb>data table notebook</a>'\n",
              "          + ' to learn more about interactive tables.';\n",
              "        element.innerHTML = '';\n",
              "        dataTable['output_type'] = 'display_data';\n",
              "        await google.colab.output.renderOutput(dataTable, element);\n",
              "        const docLink = document.createElement('div');\n",
              "        docLink.innerHTML = docLinkHtml;\n",
              "        element.appendChild(docLink);\n",
              "      }\n",
              "    </script>\n",
              "  </div>\n",
              "\n",
              "\n",
              "<div id=\"df-82a2bb85-be0a-47d1-a646-fbdaec647fd1\">\n",
              "  <button class=\"colab-df-quickchart\" onclick=\"quickchart('df-82a2bb85-be0a-47d1-a646-fbdaec647fd1')\"\n",
              "            title=\"Suggest charts\"\n",
              "            style=\"display:none;\">\n",
              "\n",
              "<svg xmlns=\"http://www.w3.org/2000/svg\" height=\"24px\"viewBox=\"0 0 24 24\"\n",
              "     width=\"24px\">\n",
              "    <g>\n",
              "        <path d=\"M19 3H5c-1.1 0-2 .9-2 2v14c0 1.1.9 2 2 2h14c1.1 0 2-.9 2-2V5c0-1.1-.9-2-2-2zM9 17H7v-7h2v7zm4 0h-2V7h2v10zm4 0h-2v-4h2v4z\"/>\n",
              "    </g>\n",
              "</svg>\n",
              "  </button>\n",
              "\n",
              "<style>\n",
              "  .colab-df-quickchart {\n",
              "      --bg-color: #E8F0FE;\n",
              "      --fill-color: #1967D2;\n",
              "      --hover-bg-color: #E2EBFA;\n",
              "      --hover-fill-color: #174EA6;\n",
              "      --disabled-fill-color: #AAA;\n",
              "      --disabled-bg-color: #DDD;\n",
              "  }\n",
              "\n",
              "  [theme=dark] .colab-df-quickchart {\n",
              "      --bg-color: #3B4455;\n",
              "      --fill-color: #D2E3FC;\n",
              "      --hover-bg-color: #434B5C;\n",
              "      --hover-fill-color: #FFFFFF;\n",
              "      --disabled-bg-color: #3B4455;\n",
              "      --disabled-fill-color: #666;\n",
              "  }\n",
              "\n",
              "  .colab-df-quickchart {\n",
              "    background-color: var(--bg-color);\n",
              "    border: none;\n",
              "    border-radius: 50%;\n",
              "    cursor: pointer;\n",
              "    display: none;\n",
              "    fill: var(--fill-color);\n",
              "    height: 32px;\n",
              "    padding: 0;\n",
              "    width: 32px;\n",
              "  }\n",
              "\n",
              "  .colab-df-quickchart:hover {\n",
              "    background-color: var(--hover-bg-color);\n",
              "    box-shadow: 0 1px 2px rgba(60, 64, 67, 0.3), 0 1px 3px 1px rgba(60, 64, 67, 0.15);\n",
              "    fill: var(--button-hover-fill-color);\n",
              "  }\n",
              "\n",
              "  .colab-df-quickchart-complete:disabled,\n",
              "  .colab-df-quickchart-complete:disabled:hover {\n",
              "    background-color: var(--disabled-bg-color);\n",
              "    fill: var(--disabled-fill-color);\n",
              "    box-shadow: none;\n",
              "  }\n",
              "\n",
              "  .colab-df-spinner {\n",
              "    border: 2px solid var(--fill-color);\n",
              "    border-color: transparent;\n",
              "    border-bottom-color: var(--fill-color);\n",
              "    animation:\n",
              "      spin 1s steps(1) infinite;\n",
              "  }\n",
              "\n",
              "  @keyframes spin {\n",
              "    0% {\n",
              "      border-color: transparent;\n",
              "      border-bottom-color: var(--fill-color);\n",
              "      border-left-color: var(--fill-color);\n",
              "    }\n",
              "    20% {\n",
              "      border-color: transparent;\n",
              "      border-left-color: var(--fill-color);\n",
              "      border-top-color: var(--fill-color);\n",
              "    }\n",
              "    30% {\n",
              "      border-color: transparent;\n",
              "      border-left-color: var(--fill-color);\n",
              "      border-top-color: var(--fill-color);\n",
              "      border-right-color: var(--fill-color);\n",
              "    }\n",
              "    40% {\n",
              "      border-color: transparent;\n",
              "      border-right-color: var(--fill-color);\n",
              "      border-top-color: var(--fill-color);\n",
              "    }\n",
              "    60% {\n",
              "      border-color: transparent;\n",
              "      border-right-color: var(--fill-color);\n",
              "    }\n",
              "    80% {\n",
              "      border-color: transparent;\n",
              "      border-right-color: var(--fill-color);\n",
              "      border-bottom-color: var(--fill-color);\n",
              "    }\n",
              "    90% {\n",
              "      border-color: transparent;\n",
              "      border-bottom-color: var(--fill-color);\n",
              "    }\n",
              "  }\n",
              "</style>\n",
              "\n",
              "  <script>\n",
              "    async function quickchart(key) {\n",
              "      const quickchartButtonEl =\n",
              "        document.querySelector('#' + key + ' button');\n",
              "      quickchartButtonEl.disabled = true;  // To prevent multiple clicks.\n",
              "      quickchartButtonEl.classList.add('colab-df-spinner');\n",
              "      try {\n",
              "        const charts = await google.colab.kernel.invokeFunction(\n",
              "            'suggestCharts', [key], {});\n",
              "      } catch (error) {\n",
              "        console.error('Error during call to suggestCharts:', error);\n",
              "      }\n",
              "      quickchartButtonEl.classList.remove('colab-df-spinner');\n",
              "      quickchartButtonEl.classList.add('colab-df-quickchart-complete');\n",
              "    }\n",
              "    (() => {\n",
              "      let quickchartButtonEl =\n",
              "        document.querySelector('#df-82a2bb85-be0a-47d1-a646-fbdaec647fd1 button');\n",
              "      quickchartButtonEl.style.display =\n",
              "        google.colab.kernel.accessAllowed ? 'block' : 'none';\n",
              "    })();\n",
              "  </script>\n",
              "</div>\n",
              "\n",
              "    </div>\n",
              "  </div>\n"
            ],
            "application/vnd.google.colaboratory.intrinsic+json": {
              "type": "dataframe",
              "variable_name": "df",
              "summary": "{\n  \"name\": \"df\",\n  \"rows\": 27977,\n  \"fields\": [\n    {\n      \"column\": \"text\",\n      \"properties\": {\n        \"dtype\": \"string\",\n        \"num_unique_values\": 27972,\n        \"samples\": [\n          \"im ready gothanks previous person commented last post pushing edge mum work tomorrow thursday friday thats ill it creating set tomorrow week nothing ever goes way life ive ruined childhood trauma effects life result abandoned everybody ive ever loved even change heart still need go current situation thats it im going die soon\",\n          \"atoms ashim posting im anonymous molested  older sister cover secret played liar entire childhood put bad spot emotionally constantly getting trouble parents school bullied rediculed friends harrassed elementary school students teachers put medication rd grade everyday pulled classroom sit principal office would come home crying everyday mistreatment mom finally enough pulled public school transferred private christian school behind education next year retake rd grade students bullied started fight back aggressively also landed principals office th grade transferred back public school made friends bullies bad kids class want bullied anymore tough guy got girlfriend short lived ended writing notes wanted fuck bunch sexual stuff soon found grandma called principal school tried press charges minor gone puberty yet really understand ramifications saying grip parents tightened medication forced throat th grade teacher slapped across face class shut class still remember bead sweat rolling mustache red angry face slapped me made turn back hardened asshole teachers care school point wanted run away several times could never make friends felt like big fucking joke me fist fights recess involved somebody else typically started kids corned back fence friends said fuck friends need them th grade proceeded get girlfriend become sexually active th grade high school began relationship started take turn eventually ended longest friendship entire life devastating ended began get suicidal depression tried overdose medication class caught red handed taking entire bottle pills became violently ill blacked bathroom found carried nurses office school principal called ambulance contacted mom mom devastated pissed crying uncontrollably lied said accident switched meds antidepressants later stopped taking gag reflex overdose went  long term relationship breakups ended cutting arms burning lighter pulled class senior year high school arrested front whole school shooting front school paintball gun night before prank someone would clean charged  different things including terrorism absolutely drive become anything life think going live past  academically barely graduated high school convinced pull shit together go college failed college blew grant money food diamonds girlfriend relationship ended joined marine corps go die country iraq opf fallujah ex girlfriend came see california led wanted get back knew knew company getting deployed iraq fight real full metal jacket mental breakdown weeks deployed threatened kill bunch people landed hospital diagnosis ptsd bipolar major depression fraudulent enlistment charge given discharge honorable conditions plane ticket home tried go back school failed racked another bill year discharge girlfriend broke up friends considered failure everything let love life walk away soon keep depression control jumped relationship first girl would talk gas station convinced looks everything chick nice funny showed attention wanted cock cake care fucked head son already whose father jail decided would pull shit together roll model later started self medicating weed really cop felt great high time friends wifes friends supplying me temper really chilled smoked manic didnt filled uncontrollable anxietydepression rage often super asshole little man syndrome didnt smoke often thought redflag option stop internal pain instead saying loud would impulsively things hurt myself punched structure point shattered wrist several fingers felt better little bit marriage ended year later point interest forming new relationships anyone tired looking new connects weed moved around different states legal dispensaries soon realized weed helping actually making things worse control anymore desperate plea help sister gave place stay moving sister family found work started busting ass make things work could get place entire focus work smoking weed numb pain living often would isolate away everyone else could smoke weed cigarettes really acceptable lifestyle eventually led renting room house full strangers closer work work roommates knowing weed would go room steal weed play instruments work put huge panic major anxiety depression eventually leave situation move back sister brother law take well year started throwing offensive false accusations sexually since interested dating divorce nephews would repeat said friends friends parents soon everyone treated fucked way made things even worse instead giving getting defensive fucking talking shit decided pack shit leave found cheap place live way woods away everyone else keep myself working employer  years started feel little comfortable around coworkers opened little relate mentioned high school paintballing incident normal conversation conflicts employer soon started take place coworker told boss paintballing played sociopath wanted job pay concerned thought boss knew well enough believe later sit boss talk future goals told goal make better future plans start business real grown shit like one bit fact retaliated cutting hours bonus pay singled rest crew made work jobs less time complete pressure unbearable redflag plate everyday every hour constantly mind started feel ill overwhelming uncontrollable feelings panic attack quit job health insurance afford cost housing car payments insurance cellphone bill ended going doctor heart would beat chest throwing every morning years wanted know why turns heart enlarged may diabetes stage  hypertension might heart attack stroke cant relieve stress take care myself got way refused take medications instead still self medicating stop weed without losing mind emotionally stopped smoking weedcigs mt dew per doctors request save life anxiety debilitating obsess death cant hold conversation cant share eye contact feel extremely uncomfortable every social situation encounter cant bring back normal feel like normal wanting kill ending existence im running short money bank feel like work people fucking minion worker slave would rather die life completely closed feel though time running out well self control hide painful memories mom traveled  miles past slipped said going kill extremely worried depressed feels like lose child even tho ive said nothing recently actually moved woods far away everyone kill myself nobody would find me cant sleep anymore mind always thinking ways go every tree look at see hanging every gun looks see blood scattered wall body slumped over every tall building see body bouncing pavement every light pole see think truck wrapped around body half way hood windshield go jog try clear mind feel urge step front car semi head hurts cant help punch face burn propane torch relieve pain extremely difficult time analyzing events life absolutely hating people theyve done me hating unable forgive forget move on shitty things ive said done people control myself thought redflag might parents kept here feel hard even around family hour without irritated rude hate everything me starting understand everyone else hates too hurtful things go away cannot help desperately want become ash float away space dot planet insignificant every way mankind nothing offer feel ashamed illness feel like waste space oxygen pray god blow heart chest mom dad would live fact son willingly killed himself\",\n          \"wanna use omegle cus self esteems low ppl always compliment saw ppl saying got doxxed using omegle shit uhh meh oh well\"\n        ],\n        \"semantic_type\": \"\",\n        \"description\": \"\"\n      }\n    },\n    {\n      \"column\": \"label\",\n      \"properties\": {\n        \"dtype\": \"number\",\n        \"std\": 0,\n        \"min\": 0,\n        \"max\": 1,\n        \"num_unique_values\": 2,\n        \"samples\": [\n          1,\n          0\n        ],\n        \"semantic_type\": \"\",\n        \"description\": \"\"\n      }\n    }\n  ]\n}"
            }
          },
          "metadata": {},
          "execution_count": 93
        }
      ]
    },
    {
      "cell_type": "code",
      "source": [
        "df.describe()"
      ],
      "metadata": {
        "colab": {
          "base_uri": "https://localhost:8080/",
          "height": 300
        },
        "id": "9rSDcVT-UCSy",
        "outputId": "187f654c-6994-451b-86d0-c39e9d963430"
      },
      "execution_count": 94,
      "outputs": [
        {
          "output_type": "execute_result",
          "data": {
            "text/plain": [
              "              label\n",
              "count  27977.000000\n",
              "mean       0.494621\n",
              "std        0.499980\n",
              "min        0.000000\n",
              "25%        0.000000\n",
              "50%        0.000000\n",
              "75%        1.000000\n",
              "max        1.000000"
            ],
            "text/html": [
              "\n",
              "  <div id=\"df-510b1d00-ebf9-42c6-bc97-9e942acf5069\" class=\"colab-df-container\">\n",
              "    <div>\n",
              "<style scoped>\n",
              "    .dataframe tbody tr th:only-of-type {\n",
              "        vertical-align: middle;\n",
              "    }\n",
              "\n",
              "    .dataframe tbody tr th {\n",
              "        vertical-align: top;\n",
              "    }\n",
              "\n",
              "    .dataframe thead th {\n",
              "        text-align: right;\n",
              "    }\n",
              "</style>\n",
              "<table border=\"1\" class=\"dataframe\">\n",
              "  <thead>\n",
              "    <tr style=\"text-align: right;\">\n",
              "      <th></th>\n",
              "      <th>label</th>\n",
              "    </tr>\n",
              "  </thead>\n",
              "  <tbody>\n",
              "    <tr>\n",
              "      <th>count</th>\n",
              "      <td>27977.000000</td>\n",
              "    </tr>\n",
              "    <tr>\n",
              "      <th>mean</th>\n",
              "      <td>0.494621</td>\n",
              "    </tr>\n",
              "    <tr>\n",
              "      <th>std</th>\n",
              "      <td>0.499980</td>\n",
              "    </tr>\n",
              "    <tr>\n",
              "      <th>min</th>\n",
              "      <td>0.000000</td>\n",
              "    </tr>\n",
              "    <tr>\n",
              "      <th>25%</th>\n",
              "      <td>0.000000</td>\n",
              "    </tr>\n",
              "    <tr>\n",
              "      <th>50%</th>\n",
              "      <td>0.000000</td>\n",
              "    </tr>\n",
              "    <tr>\n",
              "      <th>75%</th>\n",
              "      <td>1.000000</td>\n",
              "    </tr>\n",
              "    <tr>\n",
              "      <th>max</th>\n",
              "      <td>1.000000</td>\n",
              "    </tr>\n",
              "  </tbody>\n",
              "</table>\n",
              "</div>\n",
              "    <div class=\"colab-df-buttons\">\n",
              "\n",
              "  <div class=\"colab-df-container\">\n",
              "    <button class=\"colab-df-convert\" onclick=\"convertToInteractive('df-510b1d00-ebf9-42c6-bc97-9e942acf5069')\"\n",
              "            title=\"Convert this dataframe to an interactive table.\"\n",
              "            style=\"display:none;\">\n",
              "\n",
              "  <svg xmlns=\"http://www.w3.org/2000/svg\" height=\"24px\" viewBox=\"0 -960 960 960\">\n",
              "    <path d=\"M120-120v-720h720v720H120Zm60-500h600v-160H180v160Zm220 220h160v-160H400v160Zm0 220h160v-160H400v160ZM180-400h160v-160H180v160Zm440 0h160v-160H620v160ZM180-180h160v-160H180v160Zm440 0h160v-160H620v160Z\"/>\n",
              "  </svg>\n",
              "    </button>\n",
              "\n",
              "  <style>\n",
              "    .colab-df-container {\n",
              "      display:flex;\n",
              "      gap: 12px;\n",
              "    }\n",
              "\n",
              "    .colab-df-convert {\n",
              "      background-color: #E8F0FE;\n",
              "      border: none;\n",
              "      border-radius: 50%;\n",
              "      cursor: pointer;\n",
              "      display: none;\n",
              "      fill: #1967D2;\n",
              "      height: 32px;\n",
              "      padding: 0 0 0 0;\n",
              "      width: 32px;\n",
              "    }\n",
              "\n",
              "    .colab-df-convert:hover {\n",
              "      background-color: #E2EBFA;\n",
              "      box-shadow: 0px 1px 2px rgba(60, 64, 67, 0.3), 0px 1px 3px 1px rgba(60, 64, 67, 0.15);\n",
              "      fill: #174EA6;\n",
              "    }\n",
              "\n",
              "    .colab-df-buttons div {\n",
              "      margin-bottom: 4px;\n",
              "    }\n",
              "\n",
              "    [theme=dark] .colab-df-convert {\n",
              "      background-color: #3B4455;\n",
              "      fill: #D2E3FC;\n",
              "    }\n",
              "\n",
              "    [theme=dark] .colab-df-convert:hover {\n",
              "      background-color: #434B5C;\n",
              "      box-shadow: 0px 1px 3px 1px rgba(0, 0, 0, 0.15);\n",
              "      filter: drop-shadow(0px 1px 2px rgba(0, 0, 0, 0.3));\n",
              "      fill: #FFFFFF;\n",
              "    }\n",
              "  </style>\n",
              "\n",
              "    <script>\n",
              "      const buttonEl =\n",
              "        document.querySelector('#df-510b1d00-ebf9-42c6-bc97-9e942acf5069 button.colab-df-convert');\n",
              "      buttonEl.style.display =\n",
              "        google.colab.kernel.accessAllowed ? 'block' : 'none';\n",
              "\n",
              "      async function convertToInteractive(key) {\n",
              "        const element = document.querySelector('#df-510b1d00-ebf9-42c6-bc97-9e942acf5069');\n",
              "        const dataTable =\n",
              "          await google.colab.kernel.invokeFunction('convertToInteractive',\n",
              "                                                    [key], {});\n",
              "        if (!dataTable) return;\n",
              "\n",
              "        const docLinkHtml = 'Like what you see? Visit the ' +\n",
              "          '<a target=\"_blank\" href=https://colab.research.google.com/notebooks/data_table.ipynb>data table notebook</a>'\n",
              "          + ' to learn more about interactive tables.';\n",
              "        element.innerHTML = '';\n",
              "        dataTable['output_type'] = 'display_data';\n",
              "        await google.colab.output.renderOutput(dataTable, element);\n",
              "        const docLink = document.createElement('div');\n",
              "        docLink.innerHTML = docLinkHtml;\n",
              "        element.appendChild(docLink);\n",
              "      }\n",
              "    </script>\n",
              "  </div>\n",
              "\n",
              "\n",
              "<div id=\"df-63a45113-5f41-43e3-a920-16ff3b114ced\">\n",
              "  <button class=\"colab-df-quickchart\" onclick=\"quickchart('df-63a45113-5f41-43e3-a920-16ff3b114ced')\"\n",
              "            title=\"Suggest charts\"\n",
              "            style=\"display:none;\">\n",
              "\n",
              "<svg xmlns=\"http://www.w3.org/2000/svg\" height=\"24px\"viewBox=\"0 0 24 24\"\n",
              "     width=\"24px\">\n",
              "    <g>\n",
              "        <path d=\"M19 3H5c-1.1 0-2 .9-2 2v14c0 1.1.9 2 2 2h14c1.1 0 2-.9 2-2V5c0-1.1-.9-2-2-2zM9 17H7v-7h2v7zm4 0h-2V7h2v10zm4 0h-2v-4h2v4z\"/>\n",
              "    </g>\n",
              "</svg>\n",
              "  </button>\n",
              "\n",
              "<style>\n",
              "  .colab-df-quickchart {\n",
              "      --bg-color: #E8F0FE;\n",
              "      --fill-color: #1967D2;\n",
              "      --hover-bg-color: #E2EBFA;\n",
              "      --hover-fill-color: #174EA6;\n",
              "      --disabled-fill-color: #AAA;\n",
              "      --disabled-bg-color: #DDD;\n",
              "  }\n",
              "\n",
              "  [theme=dark] .colab-df-quickchart {\n",
              "      --bg-color: #3B4455;\n",
              "      --fill-color: #D2E3FC;\n",
              "      --hover-bg-color: #434B5C;\n",
              "      --hover-fill-color: #FFFFFF;\n",
              "      --disabled-bg-color: #3B4455;\n",
              "      --disabled-fill-color: #666;\n",
              "  }\n",
              "\n",
              "  .colab-df-quickchart {\n",
              "    background-color: var(--bg-color);\n",
              "    border: none;\n",
              "    border-radius: 50%;\n",
              "    cursor: pointer;\n",
              "    display: none;\n",
              "    fill: var(--fill-color);\n",
              "    height: 32px;\n",
              "    padding: 0;\n",
              "    width: 32px;\n",
              "  }\n",
              "\n",
              "  .colab-df-quickchart:hover {\n",
              "    background-color: var(--hover-bg-color);\n",
              "    box-shadow: 0 1px 2px rgba(60, 64, 67, 0.3), 0 1px 3px 1px rgba(60, 64, 67, 0.15);\n",
              "    fill: var(--button-hover-fill-color);\n",
              "  }\n",
              "\n",
              "  .colab-df-quickchart-complete:disabled,\n",
              "  .colab-df-quickchart-complete:disabled:hover {\n",
              "    background-color: var(--disabled-bg-color);\n",
              "    fill: var(--disabled-fill-color);\n",
              "    box-shadow: none;\n",
              "  }\n",
              "\n",
              "  .colab-df-spinner {\n",
              "    border: 2px solid var(--fill-color);\n",
              "    border-color: transparent;\n",
              "    border-bottom-color: var(--fill-color);\n",
              "    animation:\n",
              "      spin 1s steps(1) infinite;\n",
              "  }\n",
              "\n",
              "  @keyframes spin {\n",
              "    0% {\n",
              "      border-color: transparent;\n",
              "      border-bottom-color: var(--fill-color);\n",
              "      border-left-color: var(--fill-color);\n",
              "    }\n",
              "    20% {\n",
              "      border-color: transparent;\n",
              "      border-left-color: var(--fill-color);\n",
              "      border-top-color: var(--fill-color);\n",
              "    }\n",
              "    30% {\n",
              "      border-color: transparent;\n",
              "      border-left-color: var(--fill-color);\n",
              "      border-top-color: var(--fill-color);\n",
              "      border-right-color: var(--fill-color);\n",
              "    }\n",
              "    40% {\n",
              "      border-color: transparent;\n",
              "      border-right-color: var(--fill-color);\n",
              "      border-top-color: var(--fill-color);\n",
              "    }\n",
              "    60% {\n",
              "      border-color: transparent;\n",
              "      border-right-color: var(--fill-color);\n",
              "    }\n",
              "    80% {\n",
              "      border-color: transparent;\n",
              "      border-right-color: var(--fill-color);\n",
              "      border-bottom-color: var(--fill-color);\n",
              "    }\n",
              "    90% {\n",
              "      border-color: transparent;\n",
              "      border-bottom-color: var(--fill-color);\n",
              "    }\n",
              "  }\n",
              "</style>\n",
              "\n",
              "  <script>\n",
              "    async function quickchart(key) {\n",
              "      const quickchartButtonEl =\n",
              "        document.querySelector('#' + key + ' button');\n",
              "      quickchartButtonEl.disabled = true;  // To prevent multiple clicks.\n",
              "      quickchartButtonEl.classList.add('colab-df-spinner');\n",
              "      try {\n",
              "        const charts = await google.colab.kernel.invokeFunction(\n",
              "            'suggestCharts', [key], {});\n",
              "      } catch (error) {\n",
              "        console.error('Error during call to suggestCharts:', error);\n",
              "      }\n",
              "      quickchartButtonEl.classList.remove('colab-df-spinner');\n",
              "      quickchartButtonEl.classList.add('colab-df-quickchart-complete');\n",
              "    }\n",
              "    (() => {\n",
              "      let quickchartButtonEl =\n",
              "        document.querySelector('#df-63a45113-5f41-43e3-a920-16ff3b114ced button');\n",
              "      quickchartButtonEl.style.display =\n",
              "        google.colab.kernel.accessAllowed ? 'block' : 'none';\n",
              "    })();\n",
              "  </script>\n",
              "</div>\n",
              "\n",
              "    </div>\n",
              "  </div>\n"
            ],
            "application/vnd.google.colaboratory.intrinsic+json": {
              "type": "dataframe",
              "summary": "{\n  \"name\": \"df\",\n  \"rows\": 8,\n  \"fields\": [\n    {\n      \"column\": \"label\",\n      \"properties\": {\n        \"dtype\": \"number\",\n        \"std\": 9891.21196722181,\n        \"min\": 0.0,\n        \"max\": 27977.0,\n        \"num_unique_values\": 5,\n        \"samples\": [\n          0.49462058119169316,\n          1.0,\n          0.4999799966496984\n        ],\n        \"semantic_type\": \"\",\n        \"description\": \"\"\n      }\n    }\n  ]\n}"
            }
          },
          "metadata": {},
          "execution_count": 94
        }
      ]
    },
    {
      "cell_type": "markdown",
      "source": [
        "#The dataset contain two columns\"text\" the comments and \"label\" **1** means considered as a comment which is poisonous with mental health issues, and **0** means not considered."
      ],
      "metadata": {
        "id": "gqOXJ4upOLYk"
      }
    },
    {
      "cell_type": "code",
      "source": [
        "import pandas as pd\n",
        "import nltk\n",
        "from nltk.corpus import stopwords\n",
        "import string\n",
        "import re\n",
        "\n",
        "# Download necessary NLTK data\n",
        "nltk.download('stopwords')\n",
        "nltk.download('punkt')\n"
      ],
      "metadata": {
        "colab": {
          "base_uri": "https://localhost:8080/"
        },
        "id": "frJdJSqLOB7Y",
        "outputId": "d3875ab9-302f-4e3e-f8d6-71d2c96ac06d"
      },
      "execution_count": 95,
      "outputs": [
        {
          "output_type": "stream",
          "name": "stderr",
          "text": [
            "[nltk_data] Downloading package stopwords to /root/nltk_data...\n",
            "[nltk_data]   Package stopwords is already up-to-date!\n",
            "[nltk_data] Downloading package punkt to /root/nltk_data...\n",
            "[nltk_data]   Package punkt is already up-to-date!\n"
          ]
        },
        {
          "output_type": "execute_result",
          "data": {
            "text/plain": [
              "True"
            ]
          },
          "metadata": {},
          "execution_count": 95
        }
      ]
    },
    {
      "cell_type": "markdown",
      "source": [
        "#2- Perform data cleaning and tokenization to remove stop words, digits,...etc."
      ],
      "metadata": {
        "id": "L03kZTxkTdHz"
      }
    },
    {
      "cell_type": "code",
      "source": [
        "import pandas as pd\n",
        "import nltk\n",
        "from nltk.corpus import stopwords\n",
        "import string\n",
        "import re\n",
        "\n",
        "nltk.download('stopwords')\n",
        "nltk.download('punkt')\n",
        "nltk.download('punkt_tab')\n",
        "\n",
        "\n",
        "stop_words = set(stopwords.words('english'))\n",
        "\n",
        "def clean_and_tokenize(text):\n",
        "    text = text.lower()\n",
        "    # Remove punctuation and digits\n",
        "    text = re.sub(f\"[{string.punctuation}0-9]\", \" \", text)\n",
        "    # Tokenize text\n",
        "    tokens = nltk.word_tokenize(text)\n",
        "    # Remove stop words\n",
        "    tokens = [word for word in tokens if word not in stop_words and len(word) > 1]\n",
        "    return tokens\n",
        "\n",
        "df['cleaned_tokens'] = df['text'].apply(clean_and_tokenize)\n",
        "\n",
        "print(df[['text', 'cleaned_tokens', 'label']].head())"
      ],
      "metadata": {
        "colab": {
          "base_uri": "https://localhost:8080/"
        },
        "id": "7WakSotkPF3C",
        "outputId": "cfeea100-67f0-40ac-ff1f-dd42c5b313b4"
      },
      "execution_count": 96,
      "outputs": [
        {
          "output_type": "stream",
          "name": "stderr",
          "text": [
            "[nltk_data] Downloading package stopwords to /root/nltk_data...\n",
            "[nltk_data]   Package stopwords is already up-to-date!\n",
            "[nltk_data] Downloading package punkt to /root/nltk_data...\n",
            "[nltk_data]   Package punkt is already up-to-date!\n",
            "[nltk_data] Downloading package punkt_tab to /root/nltk_data...\n",
            "[nltk_data]   Package punkt_tab is already up-to-date!\n"
          ]
        },
        {
          "output_type": "stream",
          "name": "stdout",
          "text": [
            "                                                text  \\\n",
            "0  dear american teens question dutch person hear...   \n",
            "1  nothing look forward lifei dont many reasons k...   \n",
            "2  music recommendations im looking expand playli...   \n",
            "3  im done trying feel betterthe reason im still ...   \n",
            "4  worried  year old girl subject domestic physic...   \n",
            "\n",
            "                                      cleaned_tokens  label  \n",
            "0  [dear, american, teens, question, dutch, perso...      0  \n",
            "1  [nothing, look, forward, lifei, dont, many, re...      1  \n",
            "2  [music, recommendations, im, looking, expand, ...      0  \n",
            "3  [im, done, trying, feel, betterthe, reason, im...      1  \n",
            "4  [worried, year, old, girl, subject, domestic, ...      1  \n"
          ]
        }
      ]
    },
    {
      "cell_type": "markdown",
      "source": [
        "#Creating Model (Word2Vec)"
      ],
      "metadata": {
        "id": "XUbuUfR3Tpgz"
      }
    },
    {
      "cell_type": "code",
      "source": [
        "import gensim\n",
        "from gensim.models import Word2Vec\n",
        "\n",
        "\n",
        "model = Word2Vec(df['cleaned_tokens'], vector_size=250, window=5, min_count=1, workers=4)\n",
        "\n",
        "model.save(\"word2vec_model.model\")\n",
        "\n",
        "vector = model.wv['anxiety']\n",
        "print(vector)\n",
        "\n",
        "#Find similar words to 'anxiety'\n",
        "similar_words = model.wv.most_similar('anxiety', topn=5)\n",
        "print(similar_words)\n"
      ],
      "metadata": {
        "colab": {
          "base_uri": "https://localhost:8080/"
        },
        "id": "qaqe96g7SSXA",
        "outputId": "2f37b73c-7214-4220-fdcc-cdb9dee79099"
      },
      "execution_count": 97,
      "outputs": [
        {
          "output_type": "stream",
          "name": "stdout",
          "text": [
            "[ 5.50799727e-01  1.28234044e-01  1.04496372e+00  8.23676705e-01\n",
            " -8.90896440e-01 -9.34242249e-01  4.86913294e-01  1.93153933e-01\n",
            " -1.11750507e+00 -3.27479631e-01 -5.43180287e-01  8.14009488e-01\n",
            " -5.21853328e-01 -1.09884769e-01  1.96653679e-01  2.85529375e-01\n",
            " -7.90509582e-01 -3.65388989e-01 -3.99182409e-01 -1.29389882e-01\n",
            " -4.47738349e-01 -2.06312522e-01  1.65621459e-01 -4.14879948e-01\n",
            " -4.04703394e-02  1.60679668e-01  1.34603262e-01 -8.05871665e-01\n",
            " -1.47840106e+00  1.68089604e+00 -8.81335855e-01 -4.27408189e-01\n",
            "  6.64641142e-01  2.00059384e-01 -5.22722006e-01 -8.31642091e-01\n",
            "  1.44155957e-02  3.80224943e-01 -3.90291631e-01  6.85162365e-01\n",
            " -3.74958664e-01  1.43656790e-01 -9.79018569e-01  2.30380874e-02\n",
            "  1.69276580e-01 -4.76988077e-01  4.18864638e-01  4.44961727e-01\n",
            "  7.04532564e-01  4.30505574e-01 -6.98769748e-01 -2.84093358e-02\n",
            " -1.57441044e+00  1.12893164e-01  4.38280106e-01 -1.77541125e+00\n",
            " -5.83127201e-01 -3.16556767e-02  4.51027185e-01 -1.25850713e+00\n",
            " -8.26633990e-01  6.50767148e-01 -9.13228244e-02  8.18970501e-01\n",
            "  4.08833981e-01 -6.18640006e-01  7.20883071e-01  4.04438749e-02\n",
            "  5.08952975e-01  6.52504325e-01 -8.78897846e-01  4.13179249e-01\n",
            "  2.82240421e-01  6.71123266e-02  1.36275327e+00  8.07663143e-01\n",
            "  4.05471414e-01 -1.31279039e+00 -1.28641140e+00  5.08876383e-01\n",
            " -1.66976824e-01 -6.23751998e-01  2.35008359e-01  1.21750629e+00\n",
            " -4.72647309e-01  1.82874095e+00  1.58356059e+00  6.52139664e-01\n",
            "  5.76212347e-01  7.37286508e-01  1.46222562e-02  3.08938146e-01\n",
            "  1.25069547e+00 -2.07341928e-03 -7.57136464e-01  1.02606833e-01\n",
            " -2.93841511e-01 -1.23051023e+00  4.29055728e-02 -5.55986106e-01\n",
            "  7.89710045e-01 -6.43209934e-01  6.57680154e-01  1.46825993e+00\n",
            " -6.66382074e-01 -3.02736968e-01  1.94634527e-01 -1.02159416e-03\n",
            "  1.22263300e+00  1.46835959e+00 -1.52004802e+00 -8.22129697e-02\n",
            " -8.27379107e-01  5.48730493e-01 -1.36975467e+00 -2.77912766e-01\n",
            "  1.30915093e+00 -6.52375519e-02 -5.49901247e-01  1.14177704e+00\n",
            " -9.29457426e-01  4.59700286e-01 -8.58957916e-02 -1.52294958e+00\n",
            "  2.42299661e-01 -6.94519699e-01 -3.14899862e-01  1.65700030e+00\n",
            " -2.18256071e-01 -2.26384580e-01 -9.02699381e-02 -9.25871953e-02\n",
            "  1.66237020e+00  8.48046124e-01 -6.35732234e-01  9.77466524e-01\n",
            " -1.54286206e-01  7.81088233e-01  4.71965641e-01  1.51203185e-01\n",
            "  3.16900820e-01 -1.14926112e+00  3.69895279e-01  7.14099128e-03\n",
            "  1.39728248e+00  1.22343409e+00 -2.71317422e-01 -1.15337384e+00\n",
            "  5.39649604e-03  1.00989211e+00 -5.61644472e-02 -1.74318969e+00\n",
            " -2.88957208e-01  2.93428600e-01 -1.50179613e+00 -4.96076584e-01\n",
            " -2.05692112e-01  8.36311877e-01 -1.25308037e+00  2.51129836e-01\n",
            "  1.02336776e+00 -4.29291666e-01  5.42631745e-01 -9.54720259e-01\n",
            " -2.03317463e-01  8.63031566e-01 -8.32579881e-02  8.14376652e-01\n",
            "  1.15222847e+00 -4.56227839e-01  6.21129908e-02  1.76073369e-02\n",
            "  8.19363773e-01  1.10273004e+00 -9.45137322e-01  9.58485842e-01\n",
            " -5.02124012e-01 -2.71602082e+00 -9.88659024e-01 -4.74857360e-01\n",
            " -6.95892274e-01  2.47833163e-01  1.17384684e+00 -1.37254202e+00\n",
            " -1.20659065e+00  5.22217035e-01 -5.72213888e-01  3.15800235e-02\n",
            " -1.90416455e-01  1.24059796e+00  1.39584076e+00  4.61538741e-03\n",
            " -1.63405979e+00 -2.13404670e-02  9.43578064e-01 -1.89698279e+00\n",
            " -1.08540523e+00 -4.22938257e-01  5.08700088e-02  6.40319824e-01\n",
            " -5.90016365e-01  4.58979934e-01 -2.84463167e-01 -1.25740731e+00\n",
            " -9.97027978e-02 -6.19620025e-01  8.24529827e-02  1.02030265e+00\n",
            "  2.69852042e-01  1.48033902e-01 -1.09888293e-01 -5.48666358e-01\n",
            " -2.17533529e-01 -4.17368766e-03 -1.52195656e+00  5.33319235e-01\n",
            "  8.31104338e-01 -7.25768268e-01  1.61042258e-01  3.88496339e-01\n",
            "  3.48071270e-02 -6.79481149e-01  3.33421052e-01  2.56376237e-01\n",
            "  8.73882174e-01 -3.04864347e-01 -1.55355096e+00 -4.94508892e-01\n",
            "  1.24757993e+00  5.88962257e-01  1.14285789e-01  5.55706285e-02\n",
            " -1.63130462e+00  1.76391661e+00 -6.77656293e-01 -5.54056048e-01\n",
            "  3.04078192e-01 -7.20146179e-01  1.54542422e+00  2.61358172e-02\n",
            "  1.44283593e-01 -7.85383821e-01 -1.29452515e+00  7.80600131e-01\n",
            "  1.46061218e+00  1.38244644e-01  9.58945274e-01 -1.13636756e+00\n",
            "  1.39218256e-01  1.36210549e+00]\n",
            "[('depression', 0.8258537650108337), ('stress', 0.8099039793014526), ('severe', 0.771073043346405), ('crippling', 0.7600242495536804), ('anxious', 0.750874936580658)]\n"
          ]
        }
      ]
    },
    {
      "cell_type": "markdown",
      "source": [
        "#4- Split your dataset by preparing the inputs and the expected outputs."
      ],
      "metadata": {
        "id": "2mbtd9svTznv"
      }
    },
    {
      "cell_type": "code",
      "source": [
        "from sklearn.model_selection import train_test_split\n",
        "X=df['cleaned_tokens']\n",
        "y=df['label']\n",
        "\n",
        "X_train, X_test, y_train, y_test = train_test_split(X, y, test_size=0.2, random_state=42)\n",
        "\n",
        "print(f'Training features shape: {X_train.shape}')\n",
        "print(f'Testing features shape: {X_test.shape}')\n",
        "print(f'Training labels shape: {y_train.shape}')\n",
        "print(f'Testing labels shape: {y_test.shape}')\n"
      ],
      "metadata": {
        "colab": {
          "base_uri": "https://localhost:8080/"
        },
        "id": "lfa3acW5UJbK",
        "outputId": "261d59a8-54a6-4470-83d3-4980cfe160bb"
      },
      "execution_count": 99,
      "outputs": [
        {
          "output_type": "stream",
          "name": "stdout",
          "text": [
            "Training features shape: (22381,)\n",
            "Testing features shape: (5596,)\n",
            "Training labels shape: (22381,)\n",
            "Testing labels shape: (5596,)\n"
          ]
        }
      ]
    },
    {
      "cell_type": "markdown",
      "source": [
        "#3- Perform words embedding with the already existing libraries (Word2Vec)."
      ],
      "metadata": {
        "id": "PcB_4HG6UZwg"
      }
    },
    {
      "cell_type": "code",
      "source": [
        "import numpy as np\n",
        "\n",
        "# Function to average word vectors for a comment\n",
        "def get_average_word_vector(tokens, model, vector_size):\n",
        "    word_vectors = []\n",
        "\n",
        "    for word in tokens:\n",
        "        if word in model.wv:\n",
        "            word_vectors.append(model.wv[word])\n",
        "\n",
        "    if len(word_vectors) == 0:\n",
        "        return np.zeros(vector_size)\n",
        "\n",
        "    return np.mean(word_vectors, axis=0)\n",
        "\n",
        "tokens_list = df['cleaned_tokens'].tolist()\n",
        "\n",
        "X_train_embeddings = np.array([get_average_word_vector(tokens, model, 250) for tokens in X_train])\n",
        "X_test_embeddings = np.array([get_average_word_vector(tokens, model, 250) for tokens in X_test])\n",
        "\n",
        "print(f'shape of the Input features Train : {X_train_embeddings.shape}')\n",
        "print(f'shape of the Output labels  Train : {y_train.shape}')\n",
        "print(f'shape of the Input features  Test : {X_test_embeddings.shape}')\n",
        "print(f'shape of the Output labels test: {y_test.shape}')"
      ],
      "metadata": {
        "colab": {
          "base_uri": "https://localhost:8080/"
        },
        "id": "c4cYCPk76kcD",
        "outputId": "8f7df7d5-75a5-4f84-d28e-c06a962605b5"
      },
      "execution_count": 100,
      "outputs": [
        {
          "output_type": "stream",
          "name": "stdout",
          "text": [
            "shape of the Input features Train : (22381, 250)\n",
            "shape of the Output labels  Train : (22381,)\n",
            "shape of the Input features  Test : (5596, 250)\n",
            "shape of the Output labels test: (5596,)\n"
          ]
        }
      ]
    },
    {
      "cell_type": "markdown",
      "source": [
        "# for Extract MAX SEQUENCE LENGTH"
      ],
      "metadata": {
        "id": "OC3HCXbwUAt7"
      }
    },
    {
      "cell_type": "code",
      "source": [
        "import numpy as np\n",
        "import matplotlib.pyplot as plt\n",
        "\n",
        "sequence_lengths = df['cleaned_tokens'].apply(len)\n",
        "\n",
        "plt.figure(figsize=(10, 6))\n",
        "plt.hist(sequence_lengths, bins=50, alpha=0.75)\n",
        "plt.title(\"Distribution of Comment Lengths (Number of Tokens)\")\n",
        "plt.xlabel(\"Comment Length (Number of Tokens)\")\n",
        "plt.ylabel(\"Frequency\")\n",
        "plt.show()\n",
        "\n",
        "mean_length = np.mean(sequence_lengths)\n",
        "median_length = np.median(sequence_lengths)\n",
        "std_dev_length = np.std(sequence_lengths)\n",
        "\n",
        "print(f\"Mean Length: {mean_length}\")\n",
        "print(f\"Median Length: {median_length}\")\n",
        "print(f\"Standard Deviation: {std_dev_length}\")\n",
        "\n",
        "percentile_95 = np.percentile(sequence_lengths, 95)\n",
        "percentile_99 = np.percentile(sequence_lengths, 99)\n",
        "\n",
        "print(f\"95th Percentile Length: {percentile_95}\")\n",
        "print(f\"99th Percentile Length: {percentile_99}\")\n"
      ],
      "metadata": {
        "colab": {
          "base_uri": "https://localhost:8080/",
          "height": 651
        },
        "id": "o8-699pRVHHP",
        "outputId": "ce2a51cf-e4ab-4542-c620-9cba5270a0e9"
      },
      "execution_count": 98,
      "outputs": [
        {
          "output_type": "display_data",
          "data": {
            "text/plain": [
              "<Figure size 1000x600 with 1 Axes>"
            ],
            "image/png": "[encoded data removed]"
          },
          "metadata": {}
        },
        {
          "output_type": "stream",
          "name": "stdout",
          "text": [
            "Mean Length: 68.20191585945598\n",
            "Median Length: 36.0\n",
            "Standard Deviation: 98.13471172598162\n",
            "95th Percentile Length: 231.0\n",
            "99th Percentile Length: 456.23999999999796\n"
          ]
        }
      ]
    },
    {
      "cell_type": "markdown",
      "source": [
        "#5- Design an architecture of LSTM (many-to-one)"
      ],
      "metadata": {
        "id": "j7qAXF6rU-of"
      }
    },
    {
      "cell_type": "code",
      "source": [
        "import tensorflow as tf\n",
        "from tensorflow.keras.models import Sequential\n",
        "from tensorflow.keras.layers import LSTM, Dense, Dropout\n",
        "from tensorflow.keras.preprocessing.sequence import pad_sequences\n",
        "from tensorflow.keras.optimizers import Adam\n",
        "\n",
        "# Set parameters\n",
        "MAX_SEQUENCE_LENGTH = int(percentile_99)  # Maximum length of sequences\n",
        "EMBEDDING_DIM = 250  # Word2Vec vector size\n",
        "\n",
        "# Reshape the input data to have 3 dimensions (samples, sequence length, embedding dim)\n",
        "X_train_padded = X_train_embeddings.reshape(X_train_embeddings.shape[0], 1, X_train_embeddings.shape[1])\n",
        "X_test_padded = X_test_embeddings.reshape(X_test_embeddings.shape[0], 1, X_test_embeddings.shape[1])\n",
        "\n",
        "\n",
        "model = Sequential()\n",
        "\n",
        "# for many-to-one architecture\n",
        "model.add(LSTM(100, return_sequences=False, input_shape=(X_train_padded.shape[1], X_train_padded.shape[2])))\n",
        "\n",
        "# Apply Dropout layer for regularization and to avoid overfitting\n",
        "model.add(Dropout(0.2))\n",
        "\n",
        "model.add(Dense(1, activation='sigmoid'))\n",
        "\n",
        "model.compile(loss='binary_crossentropy', optimizer=Adam(learning_rate=0.001), metrics=['accuracy'])\n",
        "\n",
        "model.summary()"
      ],
      "metadata": {
        "colab": {
          "base_uri": "https://localhost:8080/",
          "height": 238
        },
        "id": "aKM-C_bKUxph",
        "outputId": "c830cf6b-0707-4e28-c7c0-be0d09059217"
      },
      "execution_count": 104,
      "outputs": [
        {
          "output_type": "display_data",
          "data": {
            "text/plain": [
              "\u001b[1mModel: \"sequential_8\"\u001b[0m\n"
            ],
            "text/html": [
              "<pre style=\"white-space:pre;overflow-x:auto;line-height:normal;font-family:Menlo,'DejaVu Sans Mono',consolas,'Courier New',monospace\"><span style=\"font-weight: bold\">Model: \"sequential_8\"</span>\n",
              "</pre>\n"
            ]
          },
          "metadata": {}
        },
        {
          "output_type": "display_data",
          "data": {
            "text/plain": [
              "┏━━━━━━━━━━━━━━━━━━━━━━━━━━━━━━━━━━━━━━┳━━━━━━━━━━━━━━━━━━━━━━━━━━━━━┳━━━━━━━━━━━━━━━━━┓\n",
              "┃\u001b[1m \u001b[0m\u001b[1mLayer (type)                        \u001b[0m\u001b[1m \u001b[0m┃\u001b[1m \u001b[0m\u001b[1mOutput Shape               \u001b[0m\u001b[1m \u001b[0m┃\u001b[1m \u001b[0m\u001b[1m        Param #\u001b[0m\u001b[1m \u001b[0m┃\n",
              "┡━━━━━━━━━━━━━━━━━━━━━━━━━━━━━━━━━━━━━━╇━━━━━━━━━━━━━━━━━━━━━━━━━━━━━╇━━━━━━━━━━━━━━━━━┩\n",
              "│ lstm_8 (\u001b[38;5;33mLSTM\u001b[0m)                        │ (\u001b[38;5;45mNone\u001b[0m, \u001b[38;5;34m100\u001b[0m)                 │         \u001b[38;5;34m140,400\u001b[0m │\n",
              "├──────────────────────────────────────┼─────────────────────────────┼─────────────────┤\n",
              "│ dropout_4 (\u001b[38;5;33mDropout\u001b[0m)                  │ (\u001b[38;5;45mNone\u001b[0m, \u001b[38;5;34m100\u001b[0m)                 │               \u001b[38;5;34m0\u001b[0m │\n",
              "├──────────────────────────────────────┼─────────────────────────────┼─────────────────┤\n",
              "│ dense_4 (\u001b[38;5;33mDense\u001b[0m)                      │ (\u001b[38;5;45mNone\u001b[0m, \u001b[38;5;34m1\u001b[0m)                   │             \u001b[38;5;34m101\u001b[0m │\n",
              "└──────────────────────────────────────┴─────────────────────────────┴─────────────────┘\n"
            ],
            "text/html": [
              "<pre style=\"white-space:pre;overflow-x:auto;line-height:normal;font-family:Menlo,'DejaVu Sans Mono',consolas,'Courier New',monospace\">┏━━━━━━━━━━━━━━━━━━━━━━━━━━━━━━━━━━━━━━┳━━━━━━━━━━━━━━━━━━━━━━━━━━━━━┳━━━━━━━━━━━━━━━━━┓\n",
              "┃<span style=\"font-weight: bold\"> Layer (type)                         </span>┃<span style=\"font-weight: bold\"> Output Shape                </span>┃<span style=\"font-weight: bold\">         Param # </span>┃\n",
              "┡━━━━━━━━━━━━━━━━━━━━━━━━━━━━━━━━━━━━━━╇━━━━━━━━━━━━━━━━━━━━━━━━━━━━━╇━━━━━━━━━━━━━━━━━┩\n",
              "│ lstm_8 (<span style=\"color: #0087ff; text-decoration-color: #0087ff\">LSTM</span>)                        │ (<span style=\"color: #00d7ff; text-decoration-color: #00d7ff\">None</span>, <span style=\"color: #00af00; text-decoration-color: #00af00\">100</span>)                 │         <span style=\"color: #00af00; text-decoration-color: #00af00\">140,400</span> │\n",
              "├──────────────────────────────────────┼─────────────────────────────┼─────────────────┤\n",
              "│ dropout_4 (<span style=\"color: #0087ff; text-decoration-color: #0087ff\">Dropout</span>)                  │ (<span style=\"color: #00d7ff; text-decoration-color: #00d7ff\">None</span>, <span style=\"color: #00af00; text-decoration-color: #00af00\">100</span>)                 │               <span style=\"color: #00af00; text-decoration-color: #00af00\">0</span> │\n",
              "├──────────────────────────────────────┼─────────────────────────────┼─────────────────┤\n",
              "│ dense_4 (<span style=\"color: #0087ff; text-decoration-color: #0087ff\">Dense</span>)                      │ (<span style=\"color: #00d7ff; text-decoration-color: #00d7ff\">None</span>, <span style=\"color: #00af00; text-decoration-color: #00af00\">1</span>)                   │             <span style=\"color: #00af00; text-decoration-color: #00af00\">101</span> │\n",
              "└──────────────────────────────────────┴─────────────────────────────┴─────────────────┘\n",
              "</pre>\n"
            ]
          },
          "metadata": {}
        },
        {
          "output_type": "display_data",
          "data": {
            "text/plain": [
              "\u001b[1m Total params: \u001b[0m\u001b[38;5;34m140,501\u001b[0m (548.83 KB)\n"
            ],
            "text/html": [
              "<pre style=\"white-space:pre;overflow-x:auto;line-height:normal;font-family:Menlo,'DejaVu Sans Mono',consolas,'Courier New',monospace\"><span style=\"font-weight: bold\"> Total params: </span><span style=\"color: #00af00; text-decoration-color: #00af00\">140,501</span> (548.83 KB)\n",
              "</pre>\n"
            ]
          },
          "metadata": {}
        },
        {
          "output_type": "display_data",
          "data": {
            "text/plain": [
              "\u001b[1m Trainable params: \u001b[0m\u001b[38;5;34m140,501\u001b[0m (548.83 KB)\n"
            ],
            "text/html": [
              "<pre style=\"white-space:pre;overflow-x:auto;line-height:normal;font-family:Menlo,'DejaVu Sans Mono',consolas,'Courier New',monospace\"><span style=\"font-weight: bold\"> Trainable params: </span><span style=\"color: #00af00; text-decoration-color: #00af00\">140,501</span> (548.83 KB)\n",
              "</pre>\n"
            ]
          },
          "metadata": {}
        },
        {
          "output_type": "display_data",
          "data": {
            "text/plain": [
              "\u001b[1m Non-trainable params: \u001b[0m\u001b[38;5;34m0\u001b[0m (0.00 B)\n"
            ],
            "text/html": [
              "<pre style=\"white-space:pre;overflow-x:auto;line-height:normal;font-family:Menlo,'DejaVu Sans Mono',consolas,'Courier New',monospace\"><span style=\"font-weight: bold\"> Non-trainable params: </span><span style=\"color: #00af00; text-decoration-color: #00af00\">0</span> (0.00 B)\n",
              "</pre>\n"
            ]
          },
          "metadata": {}
        }
      ]
    },
    {
      "cell_type": "code",
      "source": [
        "history = model.fit(X_train_padded, y_train, epochs=50, batch_size=32, validation_data=(X_test_padded, y_test))"
      ],
      "metadata": {
        "colab": {
          "base_uri": "https://localhost:8080/"
        },
        "id": "OMhljHeeX1HI",
        "outputId": "dc5e6111-7d3b-46b0-c997-523571a55916"
      },
      "execution_count": 105,
      "outputs": [
        {
          "output_type": "stream",
          "name": "stdout",
          "text": [
            "Epoch 1/50\n",
            "\u001b[1m700/700\u001b[0m \u001b[32m━━━━━━━━━━━━━━━━━━━━\u001b[0m\u001b[37m\u001b[0m \u001b[1m8s\u001b[0m 6ms/step - accuracy: 0.8574 - loss: 0.3531 - val_accuracy: 0.8949 - val_loss: 0.2776\n",
            "Epoch 2/50\n",
            "\u001b[1m700/700\u001b[0m \u001b[32m━━━━━━━━━━━━━━━━━━━━\u001b[0m\u001b[37m\u001b[0m \u001b[1m4s\u001b[0m 5ms/step - accuracy: 0.8889 - loss: 0.2766 - val_accuracy: 0.9008 - val_loss: 0.2610\n",
            "Epoch 3/50\n",
            "\u001b[1m700/700\u001b[0m \u001b[32m━━━━━━━━━━━━━━━━━━━━\u001b[0m\u001b[37m\u001b[0m \u001b[1m7s\u001b[0m 7ms/step - accuracy: 0.8962 - loss: 0.2624 - val_accuracy: 0.9028 - val_loss: 0.2532\n",
            "Epoch 4/50\n",
            "\u001b[1m700/700\u001b[0m \u001b[32m━━━━━━━━━━━━━━━━━━━━\u001b[0m\u001b[37m\u001b[0m \u001b[1m4s\u001b[0m 5ms/step - accuracy: 0.8997 - loss: 0.2578 - val_accuracy: 0.8971 - val_loss: 0.2561\n",
            "Epoch 5/50\n",
            "\u001b[1m700/700\u001b[0m \u001b[32m━━━━━━━━━━━━━━━━━━━━\u001b[0m\u001b[37m\u001b[0m \u001b[1m7s\u001b[0m 7ms/step - accuracy: 0.9028 - loss: 0.2494 - val_accuracy: 0.9033 - val_loss: 0.2441\n",
            "Epoch 6/50\n",
            "\u001b[1m700/700\u001b[0m \u001b[32m━━━━━━━━━━━━━━━━━━━━\u001b[0m\u001b[37m\u001b[0m \u001b[1m5s\u001b[0m 7ms/step - accuracy: 0.9022 - loss: 0.2470 - val_accuracy: 0.9065 - val_loss: 0.2416\n",
            "Epoch 7/50\n",
            "\u001b[1m700/700\u001b[0m \u001b[32m━━━━━━━━━━━━━━━━━━━━\u001b[0m\u001b[37m\u001b[0m \u001b[1m4s\u001b[0m 5ms/step - accuracy: 0.9045 - loss: 0.2374 - val_accuracy: 0.9055 - val_loss: 0.2417\n",
            "Epoch 8/50\n",
            "\u001b[1m700/700\u001b[0m \u001b[32m━━━━━━━━━━━━━━━━━━━━\u001b[0m\u001b[37m\u001b[0m \u001b[1m7s\u001b[0m 9ms/step - accuracy: 0.9032 - loss: 0.2351 - val_accuracy: 0.9071 - val_loss: 0.2395\n",
            "Epoch 9/50\n",
            "\u001b[1m700/700\u001b[0m \u001b[32m━━━━━━━━━━━━━━━━━━━━\u001b[0m\u001b[37m\u001b[0m \u001b[1m4s\u001b[0m 5ms/step - accuracy: 0.9119 - loss: 0.2240 - val_accuracy: 0.9060 - val_loss: 0.2372\n",
            "Epoch 10/50\n",
            "\u001b[1m700/700\u001b[0m \u001b[32m━━━━━━━━━━━━━━━━━━━━\u001b[0m\u001b[37m\u001b[0m \u001b[1m5s\u001b[0m 6ms/step - accuracy: 0.9101 - loss: 0.2235 - val_accuracy: 0.9081 - val_loss: 0.2369\n",
            "Epoch 11/50\n",
            "\u001b[1m700/700\u001b[0m \u001b[32m━━━━━━━━━━━━━━━━━━━━\u001b[0m\u001b[37m\u001b[0m \u001b[1m6s\u001b[0m 9ms/step - accuracy: 0.9129 - loss: 0.2213 - val_accuracy: 0.9076 - val_loss: 0.2386\n",
            "Epoch 12/50\n",
            "\u001b[1m700/700\u001b[0m \u001b[32m━━━━━━━━━━━━━━━━━━━━\u001b[0m\u001b[37m\u001b[0m \u001b[1m4s\u001b[0m 6ms/step - accuracy: 0.9151 - loss: 0.2169 - val_accuracy: 0.9083 - val_loss: 0.2360\n",
            "Epoch 13/50\n",
            "\u001b[1m700/700\u001b[0m \u001b[32m━━━━━━━━━━━━━━━━━━━━\u001b[0m\u001b[37m\u001b[0m \u001b[1m5s\u001b[0m 6ms/step - accuracy: 0.9136 - loss: 0.2174 - val_accuracy: 0.9089 - val_loss: 0.2315\n",
            "Epoch 14/50\n",
            "\u001b[1m700/700\u001b[0m \u001b[32m━━━━━━━━━━━━━━━━━━━━\u001b[0m\u001b[37m\u001b[0m \u001b[1m5s\u001b[0m 7ms/step - accuracy: 0.9160 - loss: 0.2126 - val_accuracy: 0.9071 - val_loss: 0.2378\n",
            "Epoch 15/50\n",
            "\u001b[1m700/700\u001b[0m \u001b[32m━━━━━━━━━━━━━━━━━━━━\u001b[0m\u001b[37m\u001b[0m \u001b[1m4s\u001b[0m 5ms/step - accuracy: 0.9143 - loss: 0.2106 - val_accuracy: 0.9083 - val_loss: 0.2315\n",
            "Epoch 16/50\n",
            "\u001b[1m700/700\u001b[0m \u001b[32m━━━━━━━━━━━━━━━━━━━━\u001b[0m\u001b[37m\u001b[0m \u001b[1m6s\u001b[0m 6ms/step - accuracy: 0.9189 - loss: 0.1997 - val_accuracy: 0.9098 - val_loss: 0.2338\n",
            "Epoch 17/50\n",
            "\u001b[1m700/700\u001b[0m \u001b[32m━━━━━━━━━━━━━━━━━━━━\u001b[0m\u001b[37m\u001b[0m \u001b[1m5s\u001b[0m 7ms/step - accuracy: 0.9157 - loss: 0.2034 - val_accuracy: 0.9051 - val_loss: 0.2403\n",
            "Epoch 18/50\n",
            "\u001b[1m700/700\u001b[0m \u001b[32m━━━━━━━━━━━━━━━━━━━━\u001b[0m\u001b[37m\u001b[0m \u001b[1m4s\u001b[0m 5ms/step - accuracy: 0.9173 - loss: 0.2044 - val_accuracy: 0.9076 - val_loss: 0.2413\n",
            "Epoch 19/50\n",
            "\u001b[1m700/700\u001b[0m \u001b[32m━━━━━━━━━━━━━━━━━━━━\u001b[0m\u001b[37m\u001b[0m \u001b[1m6s\u001b[0m 6ms/step - accuracy: 0.9211 - loss: 0.1981 - val_accuracy: 0.9076 - val_loss: 0.2356\n",
            "Epoch 20/50\n",
            "\u001b[1m700/700\u001b[0m \u001b[32m━━━━━━━━━━━━━━━━━━━━\u001b[0m\u001b[37m\u001b[0m \u001b[1m4s\u001b[0m 5ms/step - accuracy: 0.9185 - loss: 0.2032 - val_accuracy: 0.9083 - val_loss: 0.2349\n",
            "Epoch 21/50\n",
            "\u001b[1m700/700\u001b[0m \u001b[32m━━━━━━━━━━━━━━━━━━━━\u001b[0m\u001b[37m\u001b[0m \u001b[1m3s\u001b[0m 5ms/step - accuracy: 0.9235 - loss: 0.1933 - val_accuracy: 0.9105 - val_loss: 0.2331\n",
            "Epoch 22/50\n",
            "\u001b[1m700/700\u001b[0m \u001b[32m━━━━━━━━━━━━━━━━━━━━\u001b[0m\u001b[37m\u001b[0m \u001b[1m4s\u001b[0m 5ms/step - accuracy: 0.9260 - loss: 0.1828 - val_accuracy: 0.9098 - val_loss: 0.2318\n",
            "Epoch 23/50\n",
            "\u001b[1m700/700\u001b[0m \u001b[32m━━━━━━━━━━━━━━━━━━━━\u001b[0m\u001b[37m\u001b[0m \u001b[1m11s\u001b[0m 14ms/step - accuracy: 0.9245 - loss: 0.1899 - val_accuracy: 0.9114 - val_loss: 0.2322\n",
            "Epoch 24/50\n",
            "\u001b[1m700/700\u001b[0m \u001b[32m━━━━━━━━━━━━━━━━━━━━\u001b[0m\u001b[37m\u001b[0m \u001b[1m4s\u001b[0m 5ms/step - accuracy: 0.9236 - loss: 0.1898 - val_accuracy: 0.9058 - val_loss: 0.2401\n",
            "Epoch 25/50\n",
            "\u001b[1m700/700\u001b[0m \u001b[32m━━━━━━━━━━━━━━━━━━━━\u001b[0m\u001b[37m\u001b[0m \u001b[1m4s\u001b[0m 5ms/step - accuracy: 0.9294 - loss: 0.1821 - val_accuracy: 0.9087 - val_loss: 0.2333\n",
            "Epoch 26/50\n",
            "\u001b[1m700/700\u001b[0m \u001b[32m━━━━━━━━━━━━━━━━━━━━\u001b[0m\u001b[37m\u001b[0m \u001b[1m6s\u001b[0m 6ms/step - accuracy: 0.9251 - loss: 0.1849 - val_accuracy: 0.9053 - val_loss: 0.2449\n",
            "Epoch 27/50\n",
            "\u001b[1m700/700\u001b[0m \u001b[32m━━━━━━━━━━━━━━━━━━━━\u001b[0m\u001b[37m\u001b[0m \u001b[1m5s\u001b[0m 6ms/step - accuracy: 0.9288 - loss: 0.1768 - val_accuracy: 0.9090 - val_loss: 0.2333\n",
            "Epoch 28/50\n",
            "\u001b[1m700/700\u001b[0m \u001b[32m━━━━━━━━━━━━━━━━━━━━\u001b[0m\u001b[37m\u001b[0m \u001b[1m6s\u001b[0m 7ms/step - accuracy: 0.9283 - loss: 0.1730 - val_accuracy: 0.9112 - val_loss: 0.2339\n",
            "Epoch 29/50\n",
            "\u001b[1m700/700\u001b[0m \u001b[32m━━━━━━━━━━━━━━━━━━━━\u001b[0m\u001b[37m\u001b[0m \u001b[1m4s\u001b[0m 5ms/step - accuracy: 0.9290 - loss: 0.1755 - val_accuracy: 0.9099 - val_loss: 0.2372\n",
            "Epoch 30/50\n",
            "\u001b[1m700/700\u001b[0m \u001b[32m━━━━━━━━━━━━━━━━━━━━\u001b[0m\u001b[37m\u001b[0m \u001b[1m4s\u001b[0m 5ms/step - accuracy: 0.9314 - loss: 0.1753 - val_accuracy: 0.9101 - val_loss: 0.2371\n",
            "Epoch 31/50\n",
            "\u001b[1m700/700\u001b[0m \u001b[32m━━━━━━━━━━━━━━━━━━━━\u001b[0m\u001b[37m\u001b[0m \u001b[1m6s\u001b[0m 7ms/step - accuracy: 0.9313 - loss: 0.1722 - val_accuracy: 0.9039 - val_loss: 0.2603\n",
            "Epoch 32/50\n",
            "\u001b[1m700/700\u001b[0m \u001b[32m━━━━━━━━━━━━━━━━━━━━\u001b[0m\u001b[37m\u001b[0m \u001b[1m4s\u001b[0m 6ms/step - accuracy: 0.9339 - loss: 0.1676 - val_accuracy: 0.9123 - val_loss: 0.2365\n",
            "Epoch 33/50\n",
            "\u001b[1m700/700\u001b[0m \u001b[32m━━━━━━━━━━━━━━━━━━━━\u001b[0m\u001b[37m\u001b[0m \u001b[1m4s\u001b[0m 5ms/step - accuracy: 0.9313 - loss: 0.1719 - val_accuracy: 0.9103 - val_loss: 0.2436\n",
            "Epoch 34/50\n",
            "\u001b[1m700/700\u001b[0m \u001b[32m━━━━━━━━━━━━━━━━━━━━\u001b[0m\u001b[37m\u001b[0m \u001b[1m7s\u001b[0m 8ms/step - accuracy: 0.9348 - loss: 0.1640 - val_accuracy: 0.9083 - val_loss: 0.2381\n",
            "Epoch 35/50\n",
            "\u001b[1m700/700\u001b[0m \u001b[32m━━━━━━━━━━━━━━━━━━━━\u001b[0m\u001b[37m\u001b[0m \u001b[1m4s\u001b[0m 5ms/step - accuracy: 0.9373 - loss: 0.1630 - val_accuracy: 0.9103 - val_loss: 0.2420\n",
            "Epoch 36/50\n",
            "\u001b[1m700/700\u001b[0m \u001b[32m━━━━━━━━━━━━━━━━━━━━\u001b[0m\u001b[37m\u001b[0m \u001b[1m3s\u001b[0m 5ms/step - accuracy: 0.9339 - loss: 0.1649 - val_accuracy: 0.9092 - val_loss: 0.2395\n",
            "Epoch 37/50\n",
            "\u001b[1m700/700\u001b[0m \u001b[32m━━━━━━━━━━━━━━━━━━━━\u001b[0m\u001b[37m\u001b[0m \u001b[1m4s\u001b[0m 5ms/step - accuracy: 0.9373 - loss: 0.1624 - val_accuracy: 0.9108 - val_loss: 0.2473\n",
            "Epoch 38/50\n",
            "\u001b[1m700/700\u001b[0m \u001b[32m━━━━━━━━━━━━━━━━━━━━\u001b[0m\u001b[37m\u001b[0m \u001b[1m5s\u001b[0m 7ms/step - accuracy: 0.9389 - loss: 0.1592 - val_accuracy: 0.9076 - val_loss: 0.2443\n",
            "Epoch 39/50\n",
            "\u001b[1m700/700\u001b[0m \u001b[32m━━━━━━━━━━━━━━━━━━━━\u001b[0m\u001b[37m\u001b[0m \u001b[1m4s\u001b[0m 5ms/step - accuracy: 0.9379 - loss: 0.1561 - val_accuracy: 0.9051 - val_loss: 0.2568\n",
            "Epoch 40/50\n",
            "\u001b[1m700/700\u001b[0m \u001b[32m━━━━━━━━━━━━━━━━━━━━\u001b[0m\u001b[37m\u001b[0m \u001b[1m5s\u001b[0m 6ms/step - accuracy: 0.9381 - loss: 0.1538 - val_accuracy: 0.9080 - val_loss: 0.2495\n",
            "Epoch 41/50\n",
            "\u001b[1m700/700\u001b[0m \u001b[32m━━━━━━━━━━━━━━━━━━━━\u001b[0m\u001b[37m\u001b[0m \u001b[1m5s\u001b[0m 7ms/step - accuracy: 0.9402 - loss: 0.1510 - val_accuracy: 0.9099 - val_loss: 0.2444\n",
            "Epoch 42/50\n",
            "\u001b[1m700/700\u001b[0m \u001b[32m━━━━━━━━━━━━━━━━━━━━\u001b[0m\u001b[37m\u001b[0m \u001b[1m4s\u001b[0m 5ms/step - accuracy: 0.9436 - loss: 0.1456 - val_accuracy: 0.9101 - val_loss: 0.2436\n",
            "Epoch 43/50\n",
            "\u001b[1m700/700\u001b[0m \u001b[32m━━━━━━━━━━━━━━━━━━━━\u001b[0m\u001b[37m\u001b[0m \u001b[1m3s\u001b[0m 5ms/step - accuracy: 0.9404 - loss: 0.1519 - val_accuracy: 0.9103 - val_loss: 0.2541\n",
            "Epoch 44/50\n",
            "\u001b[1m700/700\u001b[0m \u001b[32m━━━━━━━━━━━━━━━━━━━━\u001b[0m\u001b[37m\u001b[0m \u001b[1m5s\u001b[0m 8ms/step - accuracy: 0.9447 - loss: 0.1438 - val_accuracy: 0.9081 - val_loss: 0.2515\n",
            "Epoch 45/50\n",
            "\u001b[1m700/700\u001b[0m \u001b[32m━━━━━━━━━━━━━━━━━━━━\u001b[0m\u001b[37m\u001b[0m \u001b[1m4s\u001b[0m 5ms/step - accuracy: 0.9448 - loss: 0.1463 - val_accuracy: 0.9081 - val_loss: 0.2608\n",
            "Epoch 46/50\n",
            "\u001b[1m700/700\u001b[0m \u001b[32m━━━━━━━━━━━━━━━━━━━━\u001b[0m\u001b[37m\u001b[0m \u001b[1m4s\u001b[0m 5ms/step - accuracy: 0.9440 - loss: 0.1411 - val_accuracy: 0.9071 - val_loss: 0.2580\n",
            "Epoch 47/50\n",
            "\u001b[1m700/700\u001b[0m \u001b[32m━━━━━━━━━━━━━━━━━━━━\u001b[0m\u001b[37m\u001b[0m \u001b[1m7s\u001b[0m 8ms/step - accuracy: 0.9473 - loss: 0.1403 - val_accuracy: 0.9110 - val_loss: 0.2582\n",
            "Epoch 48/50\n",
            "\u001b[1m700/700\u001b[0m \u001b[32m━━━━━━━━━━━━━━━━━━━━\u001b[0m\u001b[37m\u001b[0m \u001b[1m4s\u001b[0m 5ms/step - accuracy: 0.9460 - loss: 0.1346 - val_accuracy: 0.9055 - val_loss: 0.2653\n",
            "Epoch 49/50\n",
            "\u001b[1m700/700\u001b[0m \u001b[32m━━━━━━━━━━━━━━━━━━━━\u001b[0m\u001b[37m\u001b[0m \u001b[1m4s\u001b[0m 5ms/step - accuracy: 0.9507 - loss: 0.1295 - val_accuracy: 0.9065 - val_loss: 0.2556\n",
            "Epoch 50/50\n",
            "\u001b[1m700/700\u001b[0m \u001b[32m━━━━━━━━━━━━━━━━━━━━\u001b[0m\u001b[37m\u001b[0m \u001b[1m5s\u001b[0m 7ms/step - accuracy: 0.9497 - loss: 0.1306 - val_accuracy: 0.9099 - val_loss: 0.2539\n"
          ]
        }
      ]
    },
    {
      "cell_type": "code",
      "source": [
        "test_loss, test_accuracy = model.evaluate(X_test_padded, y_test, verbose=2)\n",
        "print(f\"Test Loss: {test_loss}\")\n",
        "print(f\"Test Accuracy: {test_accuracy*100}\")\n"
      ],
      "metadata": {
        "colab": {
          "base_uri": "https://localhost:8080/"
        },
        "id": "OYd-N_REYxw1",
        "outputId": "1c5e4850-7ca1-4fe8-f73c-40e7489eddfa"
      },
      "execution_count": 106,
      "outputs": [
        {
          "output_type": "stream",
          "name": "stdout",
          "text": [
            "175/175 - 0s - 2ms/step - accuracy: 0.9099 - loss: 0.2539\n",
            "Test Loss: 0.2539108395576477\n",
            "Test Accuracy: 90.99356532096863\n"
          ]
        }
      ]
    },
    {
      "cell_type": "code",
      "source": [
        "from sklearn.metrics import precision_score, recall_score, f1_score\n",
        "\n",
        "precision = precision_score(y_test, predictions)\n",
        "recall = recall_score(y_test, predictions)\n",
        "f1 = f1_score(y_test, predictions)\n",
        "\n",
        "print(f'Precision: {precision:.2f}')\n",
        "print(f'Recall: {recall:.2f}')\n",
        "print(f'F1-Score: {f1:.2f}')\n"
      ],
      "metadata": {
        "colab": {
          "base_uri": "https://localhost:8080/"
        },
        "id": "VquUAK7mTB-k",
        "outputId": "4685562f-9ff0-49e8-c196-ebdf0cb5190e"
      },
      "execution_count": 111,
      "outputs": [
        {
          "output_type": "stream",
          "name": "stdout",
          "text": [
            "Precision: 0.49\n",
            "Recall: 0.50\n",
            "F1-Score: 0.50\n"
          ]
        }
      ]
    },
    {
      "cell_type": "code",
      "source": [
        "import matplotlib.pyplot as plt\n",
        "\n",
        "# Plot training & validation accuracy values\n",
        "plt.plot(history.history['accuracy'])\n",
        "plt.plot(history.history['val_accuracy'])\n",
        "plt.title('Model Accuracy')\n",
        "plt.xlabel('Epoch')\n",
        "plt.ylabel('Accuracy')\n",
        "plt.legend(['Train', 'Val'], loc='upper left')\n",
        "plt.show()\n",
        "\n",
        "# Plot training & validation loss values\n",
        "plt.plot(history.history['loss'])\n",
        "plt.plot(history.history['val_loss'])\n",
        "plt.title('Model Loss')\n",
        "plt.xlabel('Epoch')\n",
        "plt.ylabel('Loss')\n",
        "plt.legend(['Train', 'Val'], loc='upper left')\n",
        "plt.show()\n"
      ],
      "metadata": {
        "colab": {
          "base_uri": "https://localhost:8080/",
          "height": 927
        },
        "id": "f1lG8jIeZaZq",
        "outputId": "04816d55-9dce-4f3b-a098-9ec1bb6d23b9"
      },
      "execution_count": 107,
      "outputs": [
        {
          "output_type": "display_data",
          "data": {
            "text/plain": [
              "<Figure size 640x480 with 1 Axes>"
            ],
            "image/png": "[encoded data removed]"
          },
          "metadata": {}
        },
        {
          "output_type": "display_data",
          "data": {
            "text/plain": [
              "<Figure size 640x480 with 1 Axes>"
            ],
            "image/png": "[encoded data removed]"
          },
          "metadata": {}
        }
      ]
    },
    {
      "cell_type": "code",
      "source": [
        "import pandas as pd\n",
        "\n",
        "y_test = df['label'].iloc[len(df) - len(X_test_padded):].values\n",
        "\n",
        "predictions = model.predict(X_test_padded)\n",
        "predictions = (predictions > 0.5).astype(int)\n",
        "\n",
        "print(\"Correctly Classified Samples (first 5):\")\n",
        "correct_count = 0\n",
        "for i in range(len(predictions)):\n",
        "    if predictions[i] == y_test[i]:  # If the prediction is correct\n",
        "        print(f\"Text: {' '.join(df['cleaned_tokens'].iloc[len(df) - len(X_test_padded) + i])}\")\n",
        "        print(f\"True Label: {y_test[i]}\")\n",
        "        print(f\"Predicted Label: {predictions[i]}\")\n",
        "        print(\"-\" * 50)\n",
        "        correct_count += 1\n",
        "    if correct_count == 5:\n",
        "        break\n",
        "\n",
        "print(\"Misclassified Samples (first 5):\")\n",
        "misclassified_count = 0\n",
        "for i in range(len(predictions)):\n",
        "    if predictions[i] != y_test[i]:\n",
        "        print(f\"Text: {' '.join(df['cleaned_tokens'].iloc[len(df) - len(X_test_padded) + i])}\")\n",
        "        print(f\"True Label: {y_test[i]}\")\n",
        "        print(f\"Predicted Label: {predictions[i]}\")\n",
        "        print(\"-\" * 50)\n",
        "        misclassified_count += 1\n",
        "    if misclassified_count == 5:\n",
        "        break\n"
      ],
      "metadata": {
        "colab": {
          "base_uri": "https://localhost:8080/"
        },
        "id": "gv00WXygZe1q",
        "outputId": "a838baf7-15b1-474b-a48e-9a5445fb240d"
      },
      "execution_count": 108,
      "outputs": [
        {
          "output_type": "stream",
          "name": "stdout",
          "text": [
            "\u001b[1m175/175\u001b[0m \u001b[32m━━━━━━━━━━━━━━━━━━━━\u001b[0m\u001b[37m\u001b[0m \u001b[1m1s\u001b[0m 7ms/step\n",
            "Correctly Classified Samples (first 5):\n",
            "Text: story incompletesimilar story op case dad spent childhood promising help pursue science career moved along many exorbitant promises coaxed signing life savings guise teaching money management skills afterwards personality instantly changed like replaced body snatcher started holding money hostage control forced flat earth fundamentalist church started incessantly discouraging scientific interests forbidden even seen girl since might lead others think sexually active threatened cut ever associated members many demographics functionally unable friends would scream belittle humiliate hours every day church strict give hobbies sinful tried damage relationships family members would constantly follow around would incessantly act attention much struggled even attempt schoolwork even remaining hobbies quickly psychologically broken started failing classes despite growing honors student years later took second major hoping raise gpa barely squeak grad school dad took somehow mean verge graduating two phds completely flipped incessantly discouraging exerting pressure graduate two phds immediately explained getting two phds accept despite protests spread word far wide two phds gained reputation kind miracle prodigy could never actually live point dad final stages terminal heart problems relentless pressure started going along even years lies abuse want disappoint death bed years went things continued get worse overwhelmed preemptive grief dads impending death every day went traumatic religious deconversion lost soulsustaining nonfundamentalist faith god started experiencing severe diabetes symptoms struggling increased course load failing recover grades dad continued sink deeper deeper obsession completely imaginary phds one day dad started taking visit old man crazy cult bedridden terminal heart problems years went dad old guy alive meant dad final stages terminal illness something like years realized outrageously exaggerating health problems spent last several going along delusional nonsense fuck im tired hurts much hurts much\n",
            "True Label: 1\n",
            "Predicted Label: [1]\n",
            "--------------------------------------------------\n",
            "Text: miss watching live pd cable wish brought back reason stopped broadcasting outbreak antipolice riots across usa assumed temporarily suspended safety cameramen riots wanted police officers go ive researched figured cancelled year according critical time nations history makes think corona virus antipolice riots im thinking two things get better soon eventually favorite television show return back\n",
            "True Label: 0\n",
            "Predicted Label: [0]\n",
            "--------------------------------------------------\n",
            "Text: brought existencethis shit doesnt make sense\n",
            "True Label: 1\n",
            "Predicted Label: [1]\n",
            "--------------------------------------------------\n",
            "Text: cant sleepi get depressed day really hits night im alone everyone asleep get thoughts redflag feel lonely lately ideas help\n",
            "True Label: 1\n",
            "Predicted Label: [1]\n",
            "--------------------------------------------------\n",
            "Text: cant take anymoreive struggling depression almost years theres days hurt much cant happy cant get hole want pain end im tired waking everyday thinking killing really bravery weakness keeping alive woke morning crying cant stop hurts much alive cant understand feel like know smile anymore like little little part teared know get back im broken many pieces think build ever\n",
            "True Label: 1\n",
            "Predicted Label: [1]\n",
            "--------------------------------------------------\n",
            "Misclassified Samples (first 5):\n",
            "Text: unsure movie renting assurance hilary swank always given excellent performances movies seems rely restraint gain emotional impact prove wrong moviebr br however movie also fantastic performances members cast speaking nonspeaking single jamie bartlett chiwetel ejiofor two main protagonists outstanding acting abilities portrayal true human feelings failings whole movie ran almost like documentarybr br must applaud tom hooper director avril beukes editor keeping multiple layered story revealed smoothly whilst keeping dialogue action moving along understandable fashion opening sequence south african landscape striking push pause button savour photographybr br cant movie like ever get nominated international award seems hit highrating button counts film true experience life country coming apartheid life poverty around celebrated dignity human spirit\n",
            "True Label: 0\n",
            "Predicted Label: [1]\n",
            "--------------------------------------------------\n",
            "Text: someone please help efficient painless way end life one people meant live normal happy life bring joy peoples lives simply waste resources space id family favor advice would appreciated help leaving\n",
            "True Label: 1\n",
            "Predicted Label: [0]\n",
            "--------------------------------------------------\n",
            "Text: favorite video game dialogue mine rain every agony every violation upon parade cold body every corner every realm feed soul vilest filth hel promise\n",
            "True Label: 0\n",
            "Predicted Label: [1]\n",
            "--------------------------------------------------\n",
            "Text: real suppleroot hours day far\n",
            "True Label: 0\n",
            "Predicted Label: [1]\n",
            "--------------------------------------------------\n",
            "Text: worse anyone morningright wake hardest thought going another day pain evening night comes around feel better try live evenings want days good\n",
            "True Label: 1\n",
            "Predicted Label: [0]\n",
            "--------------------------------------------------\n"
          ]
        }
      ]
    },
    {
      "cell_type": "code",
      "source": [
        "from sklearn.metrics import confusion_matrix, ConfusionMatrixDisplay\n",
        "\n",
        "cm = confusion_matrix(y_test, predictions)\n",
        "\n",
        "ConfusionMatrixDisplay(confusion_matrix=cm).plot()\n"
      ],
      "metadata": {
        "colab": {
          "base_uri": "https://localhost:8080/",
          "height": 466
        },
        "id": "-69X9GOKAV7n",
        "outputId": "e1a9df46-fede-45e3-fd71-bed8f473e16d"
      },
      "execution_count": 109,
      "outputs": [
        {
          "output_type": "execute_result",
          "data": {
            "text/plain": [
              "<sklearn.metrics._plot.confusion_matrix.ConfusionMatrixDisplay at 0x7a895bba2ec0>"
            ]
          },
          "metadata": {},
          "execution_count": 109
        },
        {
          "output_type": "display_data",
          "data": {
            "text/plain": [
              "<Figure size 640x480 with 2 Axes>"
            ],
            "image/png": "[encoded data removed]"
          },
          "metadata": {}
        }
      ]
    },
    {
      "cell_type": "code",
      "source": [
        "model.summary()"
      ],
      "metadata": {
        "colab": {
          "base_uri": "https://localhost:8080/",
          "height": 255
        },
        "id": "9IQ83ERgS9vt",
        "outputId": "16471c6e-d28d-4d79-e21b-30497e9e4634"
      },
      "execution_count": 110,
      "outputs": [
        {
          "output_type": "display_data",
          "data": {
            "text/plain": [
              "\u001b[1mModel: \"sequential_8\"\u001b[0m\n"
            ],
            "text/html": [
              "<pre style=\"white-space:pre;overflow-x:auto;line-height:normal;font-family:Menlo,'DejaVu Sans Mono',consolas,'Courier New',monospace\"><span style=\"font-weight: bold\">Model: \"sequential_8\"</span>\n",
              "</pre>\n"
            ]
          },
          "metadata": {}
        },
        {
          "output_type": "display_data",
          "data": {
            "text/plain": [
              "┏━━━━━━━━━━━━━━━━━━━━━━━━━━━━━━━━━━━━━━┳━━━━━━━━━━━━━━━━━━━━━━━━━━━━━┳━━━━━━━━━━━━━━━━━┓\n",
              "┃\u001b[1m \u001b[0m\u001b[1mLayer (type)                        \u001b[0m\u001b[1m \u001b[0m┃\u001b[1m \u001b[0m\u001b[1mOutput Shape               \u001b[0m\u001b[1m \u001b[0m┃\u001b[1m \u001b[0m\u001b[1m        Param #\u001b[0m\u001b[1m \u001b[0m┃\n",
              "┡━━━━━━━━━━━━━━━━━━━━━━━━━━━━━━━━━━━━━━╇━━━━━━━━━━━━━━━━━━━━━━━━━━━━━╇━━━━━━━━━━━━━━━━━┩\n",
              "│ lstm_8 (\u001b[38;5;33mLSTM\u001b[0m)                        │ (\u001b[38;5;45mNone\u001b[0m, \u001b[38;5;34m100\u001b[0m)                 │         \u001b[38;5;34m140,400\u001b[0m │\n",
              "├──────────────────────────────────────┼─────────────────────────────┼─────────────────┤\n",
              "│ dropout_4 (\u001b[38;5;33mDropout\u001b[0m)                  │ (\u001b[38;5;45mNone\u001b[0m, \u001b[38;5;34m100\u001b[0m)                 │               \u001b[38;5;34m0\u001b[0m │\n",
              "├──────────────────────────────────────┼─────────────────────────────┼─────────────────┤\n",
              "│ dense_4 (\u001b[38;5;33mDense\u001b[0m)                      │ (\u001b[38;5;45mNone\u001b[0m, \u001b[38;5;34m1\u001b[0m)                   │             \u001b[38;5;34m101\u001b[0m │\n",
              "└──────────────────────────────────────┴─────────────────────────────┴─────────────────┘\n"
            ],
            "text/html": [
              "<pre style=\"white-space:pre;overflow-x:auto;line-height:normal;font-family:Menlo,'DejaVu Sans Mono',consolas,'Courier New',monospace\">┏━━━━━━━━━━━━━━━━━━━━━━━━━━━━━━━━━━━━━━┳━━━━━━━━━━━━━━━━━━━━━━━━━━━━━┳━━━━━━━━━━━━━━━━━┓\n",
              "┃<span style=\"font-weight: bold\"> Layer (type)                         </span>┃<span style=\"font-weight: bold\"> Output Shape                </span>┃<span style=\"font-weight: bold\">         Param # </span>┃\n",
              "┡━━━━━━━━━━━━━━━━━━━━━━━━━━━━━━━━━━━━━━╇━━━━━━━━━━━━━━━━━━━━━━━━━━━━━╇━━━━━━━━━━━━━━━━━┩\n",
              "│ lstm_8 (<span style=\"color: #0087ff; text-decoration-color: #0087ff\">LSTM</span>)                        │ (<span style=\"color: #00d7ff; text-decoration-color: #00d7ff\">None</span>, <span style=\"color: #00af00; text-decoration-color: #00af00\">100</span>)                 │         <span style=\"color: #00af00; text-decoration-color: #00af00\">140,400</span> │\n",
              "├──────────────────────────────────────┼─────────────────────────────┼─────────────────┤\n",
              "│ dropout_4 (<span style=\"color: #0087ff; text-decoration-color: #0087ff\">Dropout</span>)                  │ (<span style=\"color: #00d7ff; text-decoration-color: #00d7ff\">None</span>, <span style=\"color: #00af00; text-decoration-color: #00af00\">100</span>)                 │               <span style=\"color: #00af00; text-decoration-color: #00af00\">0</span> │\n",
              "├──────────────────────────────────────┼─────────────────────────────┼─────────────────┤\n",
              "│ dense_4 (<span style=\"color: #0087ff; text-decoration-color: #0087ff\">Dense</span>)                      │ (<span style=\"color: #00d7ff; text-decoration-color: #00d7ff\">None</span>, <span style=\"color: #00af00; text-decoration-color: #00af00\">1</span>)                   │             <span style=\"color: #00af00; text-decoration-color: #00af00\">101</span> │\n",
              "└──────────────────────────────────────┴─────────────────────────────┴─────────────────┘\n",
              "</pre>\n"
            ]
          },
          "metadata": {}
        },
        {
          "output_type": "display_data",
          "data": {
            "text/plain": [
              "\u001b[1m Total params: \u001b[0m\u001b[38;5;34m421,505\u001b[0m (1.61 MB)\n"
            ],
            "text/html": [
              "<pre style=\"white-space:pre;overflow-x:auto;line-height:normal;font-family:Menlo,'DejaVu Sans Mono',consolas,'Courier New',monospace\"><span style=\"font-weight: bold\"> Total params: </span><span style=\"color: #00af00; text-decoration-color: #00af00\">421,505</span> (1.61 MB)\n",
              "</pre>\n"
            ]
          },
          "metadata": {}
        },
        {
          "output_type": "display_data",
          "data": {
            "text/plain": [
              "\u001b[1m Trainable params: \u001b[0m\u001b[38;5;34m140,501\u001b[0m (548.83 KB)\n"
            ],
            "text/html": [
              "<pre style=\"white-space:pre;overflow-x:auto;line-height:normal;font-family:Menlo,'DejaVu Sans Mono',consolas,'Courier New',monospace\"><span style=\"font-weight: bold\"> Trainable params: </span><span style=\"color: #00af00; text-decoration-color: #00af00\">140,501</span> (548.83 KB)\n",
              "</pre>\n"
            ]
          },
          "metadata": {}
        },
        {
          "output_type": "display_data",
          "data": {
            "text/plain": [
              "\u001b[1m Non-trainable params: \u001b[0m\u001b[38;5;34m0\u001b[0m (0.00 B)\n"
            ],
            "text/html": [
              "<pre style=\"white-space:pre;overflow-x:auto;line-height:normal;font-family:Menlo,'DejaVu Sans Mono',consolas,'Courier New',monospace\"><span style=\"font-weight: bold\"> Non-trainable params: </span><span style=\"color: #00af00; text-decoration-color: #00af00\">0</span> (0.00 B)\n",
              "</pre>\n"
            ]
          },
          "metadata": {}
        },
        {
          "output_type": "display_data",
          "data": {
            "text/plain": [
              "\u001b[1m Optimizer params: \u001b[0m\u001b[38;5;34m281,004\u001b[0m (1.07 MB)\n"
            ],
            "text/html": [
              "<pre style=\"white-space:pre;overflow-x:auto;line-height:normal;font-family:Menlo,'DejaVu Sans Mono',consolas,'Courier New',monospace\"><span style=\"font-weight: bold\"> Optimizer params: </span><span style=\"color: #00af00; text-decoration-color: #00af00\">281,004</span> (1.07 MB)\n",
              "</pre>\n"
            ]
          },
          "metadata": {}
        }
      ]
    }
  ]
}